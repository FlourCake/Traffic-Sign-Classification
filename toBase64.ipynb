{
 "cells": [
  {
   "cell_type": "code",
   "execution_count": 9,
   "metadata": {},
   "outputs": [],
   "source": [
    "import base64\n",
    "\n",
    "file_path = 'C:/Users/asus/Documents/Python/TugasAkhir/web/static/image/Asset 3.png'\n",
    "save_path = 'C:/Users/asus/Documents/Python/TugasAkhir/web/static/image/Asset 3_base64.txt'\n",
    "\n",
    "def toBase64(file):\n",
    "    encoded_string = base64.b64encode(file)\n",
    "    return encoded_string\n",
    "\n",
    "with open(file_path, \"rb\") as image_file:\n",
    "    encoded_string = base64.b64encode(image_file.read())\n",
    "    \n",
    "with open(save_path, 'w') as f:\n",
    "    f.write(encoded_string.decode('utf-8'))\n"
   ]
  },
  {
   "cell_type": "code",
   "execution_count": null,
   "metadata": {},
   "outputs": [],
   "source": []
  }
 ],
 "metadata": {
  "kernelspec": {
   "display_name": "TugasAkhir",
   "language": "python",
   "name": "python3"
  },
  "language_info": {
   "codemirror_mode": {
    "name": "ipython",
    "version": 3
   },
   "file_extension": ".py",
   "mimetype": "text/x-python",
   "name": "python",
   "nbconvert_exporter": "python",
   "pygments_lexer": "ipython3",
   "version": "3.11.2"
  },
  "orig_nbformat": 4
 },
 "nbformat": 4,
 "nbformat_minor": 2
}
